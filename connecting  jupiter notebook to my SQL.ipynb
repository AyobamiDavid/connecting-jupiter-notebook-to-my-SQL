{
 "cells": [
  {
   "cell_type": "code",
   "execution_count": 1,
   "id": "18fad876",
   "metadata": {},
   "outputs": [],
   "source": [
    "import pandas as pd\n",
    "import numpy as np"
   ]
  },
  {
   "cell_type": "code",
   "execution_count": 2,
   "id": "4ec63f94",
   "metadata": {},
   "outputs": [],
   "source": [
    "import mysql.connector as mc"
   ]
  },
  {
   "cell_type": "markdown",
   "id": "e44b0708",
   "metadata": {},
   "source": [
    "# step to connect to database server"
   ]
  },
  {
   "cell_type": "code",
   "execution_count": 3,
   "id": "344232ba",
   "metadata": {},
   "outputs": [],
   "source": [
    "connection = mc.connect(user=\"root\",host=\"localhost\",password=\"ini@2019\")"
   ]
  },
  {
   "cell_type": "code",
   "execution_count": 4,
   "id": "3e3c3aaf",
   "metadata": {
    "scrolled": true
   },
   "outputs": [],
   "source": [
    "cur = connection.cursor()"
   ]
  },
  {
   "cell_type": "code",
   "execution_count": 5,
   "id": "39c5765e",
   "metadata": {},
   "outputs": [
    {
     "data": {
      "text/plain": [
       "[('assignment',),\n",
       " ('class work',),\n",
       " ('classicmodels',),\n",
       " ('information_schema',),\n",
       " ('j',),\n",
       " ('mysql',),\n",
       " ('oba',),\n",
       " ('performance_schema',),\n",
       " ('sakila',),\n",
       " ('second database',),\n",
       " ('student',),\n",
       " ('student table',),\n",
       " ('sys',),\n",
       " ('tayo',),\n",
       " ('world',)]"
      ]
     },
     "execution_count": 5,
     "metadata": {},
     "output_type": "execute_result"
    }
   ],
   "source": [
    "mysql_querry1 = \"\"\"show databases\"\"\"\n",
    "cur.execute(mysql_querry1)\n",
    "cur.fetchall()"
   ]
  },
  {
   "cell_type": "code",
   "execution_count": null,
   "id": "f5b0ad14",
   "metadata": {},
   "outputs": [],
   "source": []
  },
  {
   "cell_type": "code",
   "execution_count": null,
   "id": "f800ffa8",
   "metadata": {},
   "outputs": [],
   "source": []
  },
  {
   "cell_type": "code",
   "execution_count": null,
   "id": "413d9712",
   "metadata": {},
   "outputs": [],
   "source": []
  },
  {
   "cell_type": "code",
   "execution_count": null,
   "id": "d0ee7ef5",
   "metadata": {},
   "outputs": [],
   "source": []
  },
  {
   "cell_type": "code",
   "execution_count": null,
   "id": "a1ff0541",
   "metadata": {},
   "outputs": [],
   "source": []
  },
  {
   "cell_type": "code",
   "execution_count": null,
   "id": "016c9bbc",
   "metadata": {},
   "outputs": [],
   "source": []
  },
  {
   "cell_type": "code",
   "execution_count": null,
   "id": "25ca3ba2",
   "metadata": {},
   "outputs": [],
   "source": []
  },
  {
   "cell_type": "code",
   "execution_count": null,
   "id": "58155b19",
   "metadata": {},
   "outputs": [],
   "source": []
  }
 ],
 "metadata": {
  "kernelspec": {
   "display_name": "Python 3 (ipykernel)",
   "language": "python",
   "name": "python3"
  },
  "language_info": {
   "codemirror_mode": {
    "name": "ipython",
    "version": 3
   },
   "file_extension": ".py",
   "mimetype": "text/x-python",
   "name": "python",
   "nbconvert_exporter": "python",
   "pygments_lexer": "ipython3",
   "version": "3.9.13"
  }
 },
 "nbformat": 4,
 "nbformat_minor": 5
}
